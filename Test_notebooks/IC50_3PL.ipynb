{
 "cells": [
  {
   "cell_type": "code",
   "execution_count": null,
   "id": "b64f98df",
   "metadata": {},
   "outputs": [],
   "source": []
  },
  {
   "cell_type": "code",
   "execution_count": 16,
   "id": "006e7eec",
   "metadata": {},
   "outputs": [
    {
     "name": "stdout",
     "output_type": "stream",
     "text": [
      "The IC50 occurs at 1041.42 units of x. The R squared of the regression is 0.94.\n"
     ]
    }
   ],
   "source": [
    "import numpy as np\n",
    "from scipy.optimize import minimize\n",
    "\n",
    "# Sample numbers, somewhat loggy\n",
    "x = np.array([10, 8, 9, 4, 6, 1, 3])\n",
    "y = np.array([0.9, 0.85, 0.88, 0.5, 0.7, .1, .2])\n",
    "\n",
    "\n",
    "# Use of a three parameter model here sets the min at zero.\n",
    "def formula(X, A, B, C):\n",
    "    return A / (1 + (X / C)**B)\n",
    "\n",
    "\n",
    "def formula_inverted(Y_mid, A, B, C):\n",
    "    return (A / Y_mid - 1)**(1/B) * C\n",
    "\n",
    "\n",
    "def RSS(init_params):\n",
    "    predictions = formula(x, *init_params)\n",
    "    return sum((y - predictions)**2)\n",
    "\n",
    "#TODO: create a method for determining these based on the data. E.g. max value can be the maximum observed value from x.\n",
    "initial_predictions = np.array([1, -1.5, 400])\n",
    "\n",
    "# Using the scipy minimize function to optimize from initial predicted parameters. \n",
    "result = minimize(RSS, initial_predictions, method='Powell')\n",
    "fitted_params = result.x\n",
    "\n",
    "model_predictions = formula(x, *fitted_params)\n",
    "\n",
    "# Calculation of accuracy-based metrics\n",
    "abs_error = y - model_predictions\n",
    "std_err = np.square(abs_error)\n",
    "MSE = np.mean(std_err)\n",
    "R2 = 1.0 - (np.var(abs_error) / np.var(y))\n",
    "\n",
    "# Uses a very large number to find roughly the upper bound for Y. Can probably be improved mathematically. \n",
    "y_mean = formula(1000000, *fitted_params) / 2\n",
    "\n",
    "ic50 = formula_inverted(y_mean, *fitted_params)\n",
    "\n",
    "print(f'The IC50 occurs at {np.round(ic50, 2)} units of x. The R squared of the regression is {np.round(R2, 2)}.')\n"
   ]
  },
  {
   "cell_type": "code",
   "execution_count": 1,
   "id": "84c5fe9e",
   "metadata": {},
   "outputs": [],
   "source": [
    "#create funciton for easy testing\n",
    "def threePL(x, y):\n",
    "    import numpy as np\n",
    "    from scipy.optimize import minimize\n",
    "    \n",
    "    # Use of a three parameter model here sets the min at zero.\n",
    "    def formula(X, D, B, C):\n",
    "        return D / (1 + (X / C)**B)\n",
    "\n",
    "\n",
    "    def formula_inverted(Y_mid, D, B, C):\n",
    "        return (D / Y_mid - 1)**(1/B) * C\n",
    "\n",
    "\n",
    "    def RSS(init_params):\n",
    "        predictions = formula(x, *init_params)\n",
    "        return sum((y - predictions)**2)\n",
    "\n",
    "    #TODO: create a method for determining these based on the data. E.g. max value can be the maximum observed value from x.\n",
    "    initial_predictions = np.array([1, -1.5, 400])\n",
    "\n",
    "    # Using the scipy minimize function to optimize from initial predicted parameters. \n",
    "    result = minimize(RSS, initial_predictions, method='Powell')\n",
    "    fitted_params = result.x\n",
    "\n",
    "    model_predictions = formula(x, *fitted_params)\n",
    "\n",
    "    # Calculation of accuracy-based metrics\n",
    "    abs_error = y - model_predictions\n",
    "    std_err = np.square(abs_error)\n",
    "    MSE = np.mean(std_err)\n",
    "    R2 = 1.0 - (np.var(abs_error) / np.var(y))\n",
    "\n",
    "    # Uses a very large number to find roughly the upper bound for Y. Can probably be improved mathematically. \n",
    "    y_mean = formula(1000000, *fitted_params) / 2\n",
    "\n",
    "    ic50 = formula_inverted(y_mean, *fitted_params)\n",
    "\n",
    "    print(f'The IC50 occurs at {np.round(ic50, 2)} units of x. The R squared of the regression is {np.round(R2, 2)}.')"
   ]
  },
  {
   "cell_type": "code",
   "execution_count": 4,
   "id": "fd941bef",
   "metadata": {},
   "outputs": [
    {
     "data": {
      "text/plain": [
       "<matplotlib.collections.PathCollection at 0x2c312b0c940>"
      ]
     },
     "execution_count": 4,
     "metadata": {},
     "output_type": "execute_result"
    },
    {
     "data": {
      "image/png": "[encoded data removed]",
      "text/plain": [
       "<Figure size 432x288 with 1 Axes>"
      ]
     },
     "metadata": {
      "needs_background": "light"
     },
     "output_type": "display_data"
    }
   ],
   "source": [
    "#examine data\n",
    "import matplotlib.pyplot as plt\n",
    "\n",
    "x = np.array([10, 8, 9, 4, 6, 1, 3])\n",
    "y = np.array([0.9, 0.85, 0.88, 0.5, 0.7, .1, .2])\n",
    "\n",
    "plt.scatter(x, y);"
   ]
  },
  {
   "cell_type": "code",
   "execution_count": 2,
   "id": "e6dde366",
   "metadata": {},
   "outputs": [
    {
     "name": "stdout",
     "output_type": "stream",
     "text": [
      "1 10 5 5\n"
     ]
    },
    {
     "data": {
      "image/png": "[encoded data removed]",
      "text/plain": [
       "<Figure size 432x288 with 1 Axes>"
      ]
     },
     "metadata": {
      "needs_background": "light"
     },
     "output_type": "display_data"
    }
   ],
   "source": [
    "#Create function to generate log like data\n",
    "import numpy as np\n",
    "import matplotlib.pyplot as plt\n",
    "'''\n",
    "4pl equation:\n",
    "y = D+(A-D)/(1+(x/C)^B)\n",
    "\n",
    "x = c((a - d)/(y - d) - 1)**1/b\n",
    "\n",
    "a = the minimum value that can be obtained (i.e. what happens at 0 dose)\n",
    "\n",
    "d = the maximum value that can be obtained (i.e. what happens at infinite dose)\n",
    "\n",
    "c = the point of inflection (i.e. the point on the S shaped curve halfway between a and d)\n",
    "\n",
    "b = Hill’s slope of the curve (i.e. this is related to the steepness of the curve at point c).\n",
    "'''\n",
    "rng = np.random.RandomState(123)\n",
    "\n",
    "a = 1\n",
    "d = rng.randint(10, 12)\n",
    "c = rng.randint(5, 6)\n",
    "b = rng.randint(6)\n",
    "\n",
    "x = np.linspace(0, 10 , 7)\n",
    "\n",
    "y = d + ((a - d)/(1 + (x/c)**(b)))\n",
    "\n",
    "plt.scatter(x, y);\n",
    "print(a, d, c, b)"
   ]
  },
  {
   "cell_type": "code",
   "execution_count": 3,
   "id": "8333d897",
   "metadata": {},
   "outputs": [
    {
     "name": "stdout",
     "output_type": "stream",
     "text": [
      "The IC50 occurs at 820.03 units of x. The R squared of the regression is 0.93.\n"
     ]
    },
    {
     "name": "stderr",
     "output_type": "stream",
     "text": [
      "<ipython-input-1-2c4c1a4825be>:8: RuntimeWarning: divide by zero encountered in power\n",
      "  return D / (1 + (X / C)**B)\n"
     ]
    }
   ],
   "source": [
    "threePL(x, y)"
   ]
  }
 ],
 "metadata": {
  "kernelspec": {
   "display_name": "Python 3",
   "language": "python",
   "name": "python3"
  },
  "language_info": {
   "codemirror_mode": {
    "name": "ipython",
    "version": 3
   },
   "file_extension": ".py",
   "mimetype": "text/x-python",
   "name": "python",
   "nbconvert_exporter": "python",
   "pygments_lexer": "ipython3",
   "version": "3.8.8"
  }
 },
 "nbformat": 4,
 "nbformat_minor": 5
}
